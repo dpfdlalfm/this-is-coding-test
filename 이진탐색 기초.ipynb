{
  "nbformat": 4,
  "nbformat_minor": 0,
  "metadata": {
    "colab": {
      "name": "Untitled0.ipynb",
      "provenance": [],
      "collapsed_sections": [],
      "authorship_tag": "ABX9TyOWng/wx6pWSgLsWenqzkaY",
      "include_colab_link": true
    },
    "kernelspec": {
      "name": "python3",
      "display_name": "Python 3"
    },
    "language_info": {
      "name": "python"
    }
  },
  "cells": [
    {
      "cell_type": "markdown",
      "metadata": {
        "id": "view-in-github",
        "colab_type": "text"
      },
      "source": [
        "<a href=\"https://colab.research.google.com/github/dpfdlalfm/this-is-coding-test/blob/main/%EC%9D%B4%EC%A7%84%ED%83%90%EC%83%89%20%EA%B8%B0%EC%B4%88.ipynb\" target=\"_parent\"><img src=\"https://colab.research.google.com/assets/colab-badge.svg\" alt=\"Open In Colab\"/></a>"
      ]
    },
    {
      "cell_type": "code",
      "execution_count": 21,
      "metadata": {
        "colab": {
          "base_uri": "https://localhost:8080/"
        },
        "id": "o5pjC8Hgs_wn",
        "outputId": "fcf2374a-06c5-4fb4-9c32-5d1cfedf637b"
      },
      "outputs": [
        {
          "output_type": "stream",
          "name": "stdout",
          "text": [
            "1\n",
            "배열 내에 원소가 존재하지 않음\n"
          ]
        }
      ],
      "source": [
        "# 이것이 코딩테스트다\n",
        "# Chapter 5. 이진탐색\n",
        "\n",
        "import sys\n",
        "from bisect import bisect_left, bisect_right\n",
        "\n",
        "\n",
        "def binary_search(arr, target, start, end):\n",
        "  while start <= end:\n",
        "    mid = (start+end) // 2\n",
        "    if arr[mid] == target:\n",
        "      return mid\n",
        "    elif arr[mid] > target:\n",
        "      # 첫 시도 실패. 이유는?\n",
        "      # binary_search(arr,target,mid+1,end) 시작과 끝부분 잘못 설정. \n",
        "      # 타겟이 중간값보다 작으니까 end 부분을 왼쪽으로 한칸 땡겨야함.\n",
        "      end = mid - 1\n",
        "      # 두번째 시도 실패.\n",
        "      # while문으로 할 때는 재귀함수형식이 아닌\n",
        "      # start와 end 값을 설정해주는 식으로 함.\n",
        "    else:\n",
        "      start = mid + 1\n",
        "  return None\n",
        "\n",
        "\n",
        "def print_bs(result):\n",
        "  if result == None:\n",
        "    print('배열 내에 원소가 존재하지 않음')\n",
        "  else:\n",
        "    print(result)\n",
        "\n",
        "\n",
        "arr = [x for x in range(-4,11,2)]\n",
        "# 이진탐색은 정렬된 리스트에서 사용.\n",
        "# 순차탐색은 정렬되지 않은 리스트에서 사용.\n",
        "\n",
        "print_bs(binary_search(arr,-2,0,len(arr)-1))\n",
        "print_bs(binary_search(arr,3,0,len(arr)-1))"
      ]
    },
    {
      "cell_type": "code",
      "source": [
        "arr = [x for x in range(-4,11,2)]\n",
        "print(bisect_left(arr,-1))\n",
        "# 배열 arr에 -2가 들어가야할 가장 왼쪽 인덱스 반환\n",
        "# -4 -2 (V) 0 2 4 6 8 10\n",
        "print(bisect_right(arr,8))\n",
        "# 배열 arr에 8이 들어가야할 가장 오른쪽 인덱스 반환\n",
        "\n",
        "arr2 = [-2,-1,0,1,1,1,2]\n",
        "print(bisect_right(arr2, 1))\n",
        "# 같은 원소가 존재할 경우 마지막 원소의 인덱스 +1 반환\n",
        "# -2 -1 0 1 1 1 (V) 2"
      ],
      "metadata": {
        "colab": {
          "base_uri": "https://localhost:8080/"
        },
        "id": "lavl5oB4Fhas",
        "outputId": "cac3af22-f096-497d-cfa6-d16788f5708c"
      },
      "execution_count": 20,
      "outputs": [
        {
          "output_type": "stream",
          "name": "stdout",
          "text": [
            "2\n",
            "7\n",
            "6\n"
          ]
        }
      ]
    },
    {
      "cell_type": "code",
      "source": [
        "# 값이 [left_value, right_value]인 데이터의 개수를 반환하는 함수\n",
        "def count_by_range(a,left,right):\n",
        "  right_idx = bisect_right(a,right)\n",
        "  left_idx = bisect_left(a,left)\n",
        "  return right_idx - left_idx\n",
        "\n",
        "a = [1,2,3,3,3,3,4,4,8,9]\n",
        "\n",
        "print(count_by_range(a,2,8))\n",
        "# 2부터 8까지의 데이터의 길이는 8\n",
        "print(count_by_range(a,2,2))\n",
        "# 2부터 2까지의 데이터의 길이는 1\n",
        "print(count_by_range(a,3,3))\n",
        "# a에 3이 4개가 있으므로 4를 반환."
      ],
      "metadata": {
        "colab": {
          "base_uri": "https://localhost:8080/"
        },
        "id": "qRCzn5urHteW",
        "outputId": "5ea6f68d-ff8e-457c-99cd-a29a67bec56f"
      },
      "execution_count": 23,
      "outputs": [
        {
          "output_type": "stream",
          "name": "stdout",
          "text": [
            "8\n",
            "1\n",
            "4\n"
          ]
        }
      ]
    }
  ]
}