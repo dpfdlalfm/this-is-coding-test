{
  "nbformat": 4,
  "nbformat_minor": 0,
  "metadata": {
    "colab": {
      "name": "Untitled0.ipynb",
      "provenance": [],
      "collapsed_sections": [],
      "authorship_tag": "ABX9TyMNOgBDd9PHJ0LIbcOqo+Ur",
      "include_colab_link": true
    },
    "kernelspec": {
      "name": "python3",
      "display_name": "Python 3"
    },
    "language_info": {
      "name": "python"
    }
  },
  "cells": [
    {
      "cell_type": "markdown",
      "metadata": {
        "id": "view-in-github",
        "colab_type": "text"
      },
      "source": [
        "<a href=\"https://colab.research.google.com/github/dpfdlalfm/this-is-coding-test/blob/main/Untitled0.ipynb\" target=\"_parent\"><img src=\"https://colab.research.google.com/assets/colab-badge.svg\" alt=\"Open In Colab\"/></a>"
      ]
    },
    {
      "cell_type": "code",
      "execution_count": 10,
      "metadata": {
        "colab": {
          "base_uri": "https://localhost:8080/"
        },
        "id": "o5pjC8Hgs_wn",
        "outputId": "c68b7522-172f-445c-887f-d8eda6c4551c"
      },
      "outputs": [
        {
          "output_type": "stream",
          "name": "stdout",
          "text": [
            "2\n",
            "2\n",
            "7\n"
          ]
        }
      ],
      "source": [
        "# 이것이 코딩테스트다\n",
        "# Chapter 5. 이진탐색\n",
        "\n",
        "import sys\n",
        "from bisect import bisect_left, bisect_right\n",
        "\n",
        "arr = [x for x in range(-4,11,2)]\n",
        "# 이진탐색은 정렬된 리스트에서 사용.\n",
        "# 순차탐색은 정렬되지 않은 리스트에서 사용.\n",
        "\n",
        "def binary_search(arr, target, start, end):\n",
        "  while start <= end:\n",
        "    mid = (start+end) // 2\n",
        "    if arr[mid] == target:\n",
        "      return mid\n",
        "    elif arr[mid] > target:\n",
        "      # 첫 시도 실패. 이유는?\n",
        "      # binary_search(arr,target,mid+1,end) 시작과 끝부분 잘못 설정. \n",
        "      # 타겟이 중간값보다 작으니까 end 부분을 왼쪽으로 한칸 땡겨야함.\n",
        "      end = mid - 1\n",
        "      # 두번째 시도 실패.\n",
        "      # while문으로 할 때는 재귀함수형식이 아닌\n",
        "      # start와 end 값을 설정해주는 식으로 함.\n",
        "    else:\n",
        "      start = mid + 1\n",
        "  return None\n",
        "\n",
        "result = binary_search(arr,-2,0,len(arr)-1)\n",
        "if result == None:\n",
        "  print('원소가 배열에 존재하지 않음.')\n",
        "else:\n",
        "  print(result+1)\n",
        "\n",
        "print(bisect_left(arr,-1))\n",
        "# 배열 arr에 -2가 들어가야할 가장 왼쪽 인덱스 반환\n",
        "print(bisect_right(arr,8))\n",
        "# 배열 arr에 8이 들어가야할 가장 오른쪽 인덱스 반환\n",
        "# 같은 원소가 존재할 경우 마지막 원소의 인덱스 +1 반환"
      ]
    }
  ]
}
